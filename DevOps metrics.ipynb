{
 "cells": [
  {
   "source": [
    "## Configure and load releases"
   ],
   "cell_type": "markdown",
   "metadata": {}
  },
  {
   "cell_type": "code",
   "execution_count": 36,
   "metadata": {},
   "outputs": [
    {
     "output_type": "stream",
     "name": "stdout",
     "text": [
      "Stored 'github_apikey' (str)\nStored 'url' (str)\n"
     ]
    },
    {
     "output_type": "display_data",
     "data": {
      "text/plain": "Text(value='', description='Repository name:', placeholder='Type something', style=DescriptionStyle(descriptio…",
      "application/vnd.jupyter.widget-view+json": {
       "version_major": 2,
       "version_minor": 0,
       "model_id": "8e9b6f464d1b4fe3bd44f877e9e1402f"
      }
     },
     "metadata": {}
    },
    {
     "output_type": "display_data",
     "data": {
      "text/plain": "Output()",
      "application/vnd.jupyter.widget-view+json": {
       "version_major": 2,
       "version_minor": 0,
       "model_id": "96144001057c4709812f3b09d75c0b95"
      }
     },
     "metadata": {}
    },
    {
     "output_type": "display_data",
     "data": {
      "text/plain": "Text(value='', description='Repository owner:', placeholder='Type something', style=DescriptionStyle(descripti…",
      "application/vnd.jupyter.widget-view+json": {
       "version_major": 2,
       "version_minor": 0,
       "model_id": "e6a77f1e8e2042d0b0caf02cbde40894"
      }
     },
     "metadata": {}
    },
    {
     "output_type": "display_data",
     "data": {
      "text/plain": "Output()",
      "application/vnd.jupyter.widget-view+json": {
       "version_major": 2,
       "version_minor": 0,
       "model_id": "96144001057c4709812f3b09d75c0b95"
      }
     },
     "metadata": {}
    },
    {
     "output_type": "display_data",
     "data": {
      "text/plain": "Button(description='Submit', style=ButtonStyle())",
      "application/vnd.jupyter.widget-view+json": {
       "version_major": 2,
       "version_minor": 0,
       "model_id": "7330b9ca1264436abbeb0387e55b4753"
      }
     },
     "metadata": {}
    },
    {
     "output_type": "display_data",
     "data": {
      "text/plain": "Output()",
      "application/vnd.jupyter.widget-view+json": {
       "version_major": 2,
       "version_minor": 0,
       "model_id": "96144001057c4709812f3b09d75c0b95"
      }
     },
     "metadata": {}
    }
   ],
   "source": [
    "import requests\n",
    "import json\n",
    "import ipywidgets as widgets\n",
    "from IPython.display import display\n",
    "from ipywidgets import Text, Layout\n",
    "import getpass\n",
    "\n",
    "%store -z\n",
    "\n",
    "github_apikey = getpass.getpass()\n",
    "%store github_apikey\n",
    "\n",
    "url = \"https://api.github.com/graphql\"\n",
    "%store url\n",
    "\n",
    "submit_button = widgets.Button(description=\"Submit\")\n",
    "output = widgets.Output()\n",
    "style = {'description_width': '150px'}\n",
    "\n",
    "w_repo_name = widgets.Text(\n",
    "    value='',\n",
    "    placeholder='Type something',\n",
    "    description='Repository name:',\n",
    "    disabled=False,\n",
    "    style=style\n",
    ")\n",
    "\n",
    "w_repo_owner = widgets.Text(\n",
    "    value='',\n",
    "    placeholder='Type something',\n",
    "    description='Repository owner:',\n",
    "    disabled=False,\n",
    "    style=style\n",
    ")\n",
    "\n",
    "def on_button_clicked(b):\n",
    "    with output:\n",
    "        if w_repo_name.value and w_repo_owner.value:\n",
    "            global repo_name\n",
    "            repo_name = w_repo_name.value\n",
    "            global repo_owner\n",
    "            repo_owner = w_repo_owner.value            \n",
    "                        \n",
    "            load_releases(repo_name, repo_owner)\n",
    "        else:\n",
    "            print(\"Missing owner or name\")\n",
    "\n",
    "\n",
    "\n",
    "\n",
    "def load_releases(repo_name, repo_owner):\n",
    "  payload=\"{\\\"query\\\":\\\"{\\\\n  repository(name: \\\\\\\"repo_name\\\\\\\", owner: \\\\\\\"repo_owner\\\\\\\") {\\\\n    id\\\\n        isPrivate\\\\n    name\\\\n    owner {\\\\n      id\\\\n      login\\\\n      avatarUrl\\\\n    }\\\\n    createdAt\\\\n    releases   (first: 10) {\\\\n      edges {\\\\n        node {\\\\n          id\\\\n          name\\\\n          createdAt\\\\n             publishedAt\\\\n tag {\\\\n          name\\\\n        }\\\\n       }\\\\n      }\\\\n    }\\\\n    \\\\n  }\\\\n}\\\\n\\\",\\\"variables\\\":{} } \"\n",
    "\n",
    "  payload = payload.replace(\"repo_name\", repo_name)\n",
    "  payload = payload.replace(\"repo_owner\", repo_owner)\n",
    "  authorization_token = \"Bearer {0}\".format(github_apikey)\n",
    "  headers = {\n",
    "    'Authorization': authorization_token,\n",
    "    'Content-Type': 'application/json'\n",
    "  }\n",
    "\n",
    "  response = requests.request(\"POST\", url, headers=headers, data=payload)\n",
    "  print(repo_name)\n",
    "  print(repo_owner)\n",
    "\n",
    "  if response:\n",
    "    parsed_response = json.loads(response.text)[\"data\"][\"repository\"]\n",
    "    global releases\n",
    "    releases = parsed_response[\"releases\"][\"edges\"]\n",
    "    releases = filter(lambda x: \"tag\" in x[\"node\"] and x[\"node\"][\"tag\"], releases)\n",
    "\n",
    "  else:\n",
    "    print(\"bad request\")\n",
    "\n",
    "\n",
    "\n",
    "display(w_repo_name, output)\n",
    "display(w_repo_owner, output)\n",
    "display(submit_button, output)\n",
    "\n",
    "submit_button.on_click(on_button_clicked)\n"
   ]
  },
  {
   "source": [
    "## Display releases"
   ],
   "cell_type": "markdown",
   "metadata": {}
  },
  {
   "source": [
    "import pandas as pd\n",
    "import matplotlib.pyplot as plt\n",
    "import seaborn as sns\n",
    "%matplotlib inline\n",
    "\n",
    "sns.set(style=\"darkgrid\")\n",
    "%store -r github_apikey\n",
    "%store -r url\n",
    "\n",
    "columns = [\"Name\", \"Published at\", \"Created at\"]\n",
    "data = []\n",
    "\n",
    "for r in releases:\n",
    "    \n",
    "    release_node = r[\"node\"]    \n",
    "    tag_name = release_node[\"tag\"][\"name\"]\n",
    "    publishedAt = release_node[\"publishedAt\"] if release_node[\"publishedAt\"] else \"\"\n",
    "    createdAt = release_node[\"createdAt\"]\n",
    "    \n",
    "\n",
    "    line = [tag_name, publishedAt, createdAt]\n",
    "    data.append(line)\n",
    "\n",
    "pd.DataFrame(data,columns=columns)\n"
   ],
   "cell_type": "code",
   "metadata": {},
   "execution_count": 30,
   "outputs": [
    {
     "output_type": "execute_result",
     "data": {
      "text/plain": [
       "         Name          Published at            Created at\n",
       "0       1.0.0  2020-06-16T18:10:36Z  2020-06-16T18:06:14Z\n",
       "1  1.0.1.rc.1  2020-06-16T18:20:02Z  2020-06-16T18:19:20Z\n",
       "2       1.0.1  2020-06-16T18:24:29Z  2020-06-16T18:22:22Z\n",
       "3       1.0.2  2020-06-16T18:28:56Z  2020-06-16T18:28:35Z\n",
       "4       1.0.3  2020-06-16T19:12:48Z  2020-06-16T19:11:43Z\n",
       "5       1.0.4  2020-06-23T16:41:19Z  2020-06-23T16:38:57Z\n",
       "6       1.0.5  2020-06-23T16:58:38Z  2020-06-23T16:57:06Z\n",
       "7       1.0.6  2020-06-23T17:12:58Z  2020-06-23T17:11:45Z\n",
       "8       1.0.7  2020-07-07T19:50:30Z  2020-07-08T14:03:44Z"
      ],
      "text/html": "<div>\n<style scoped>\n    .dataframe tbody tr th:only-of-type {\n        vertical-align: middle;\n    }\n\n    .dataframe tbody tr th {\n        vertical-align: top;\n    }\n\n    .dataframe thead th {\n        text-align: right;\n    }\n</style>\n<table border=\"1\" class=\"dataframe\">\n  <thead>\n    <tr style=\"text-align: right;\">\n      <th></th>\n      <th>Name</th>\n      <th>Published at</th>\n      <th>Created at</th>\n    </tr>\n  </thead>\n  <tbody>\n    <tr>\n      <th>0</th>\n      <td>1.0.0</td>\n      <td>2020-06-16T18:10:36Z</td>\n      <td>2020-06-16T18:06:14Z</td>\n    </tr>\n    <tr>\n      <th>1</th>\n      <td>1.0.1.rc.1</td>\n      <td>2020-06-16T18:20:02Z</td>\n      <td>2020-06-16T18:19:20Z</td>\n    </tr>\n    <tr>\n      <th>2</th>\n      <td>1.0.1</td>\n      <td>2020-06-16T18:24:29Z</td>\n      <td>2020-06-16T18:22:22Z</td>\n    </tr>\n    <tr>\n      <th>3</th>\n      <td>1.0.2</td>\n      <td>2020-06-16T18:28:56Z</td>\n      <td>2020-06-16T18:28:35Z</td>\n    </tr>\n    <tr>\n      <th>4</th>\n      <td>1.0.3</td>\n      <td>2020-06-16T19:12:48Z</td>\n      <td>2020-06-16T19:11:43Z</td>\n    </tr>\n    <tr>\n      <th>5</th>\n      <td>1.0.4</td>\n      <td>2020-06-23T16:41:19Z</td>\n      <td>2020-06-23T16:38:57Z</td>\n    </tr>\n    <tr>\n      <th>6</th>\n      <td>1.0.5</td>\n      <td>2020-06-23T16:58:38Z</td>\n      <td>2020-06-23T16:57:06Z</td>\n    </tr>\n    <tr>\n      <th>7</th>\n      <td>1.0.6</td>\n      <td>2020-06-23T17:12:58Z</td>\n      <td>2020-06-23T17:11:45Z</td>\n    </tr>\n    <tr>\n      <th>8</th>\n      <td>1.0.7</td>\n      <td>2020-07-07T19:50:30Z</td>\n      <td>2020-07-08T14:03:44Z</td>\n    </tr>\n  </tbody>\n</table>\n</div>"
     },
     "metadata": {},
     "execution_count": 30
    }
   ]
  },
  {
   "source": [
    "## Evolution of lead time for changes per release\n",
    "The amount of time it takes a commit to get into production"
   ],
   "cell_type": "markdown",
   "metadata": {}
  },
  {
   "cell_type": "code",
   "execution_count": 35,
   "metadata": {},
   "outputs": [
    {
     "output_type": "error",
     "ename": "TypeError",
     "evalue": "Parser must be a string or character stream, not NoneType",
     "traceback": [
      "\u001b[0;31m---------------------------------------------------------------------------\u001b[0m",
      "\u001b[0;31mTypeError\u001b[0m                                 Traceback (most recent call last)",
      "\u001b[0;32m<ipython-input-35-dc480401f85c>\u001b[0m in \u001b[0;36m<module>\u001b[0;34m\u001b[0m\n\u001b[1;32m     31\u001b[0m \u001b[0;34m\u001b[0m\u001b[0m\n\u001b[1;32m     32\u001b[0m     \u001b[0mcommits\u001b[0m \u001b[0;34m=\u001b[0m \u001b[0mjson\u001b[0m\u001b[0;34m.\u001b[0m\u001b[0mloads\u001b[0m\u001b[0;34m(\u001b[0m\u001b[0mresponse\u001b[0m\u001b[0;34m.\u001b[0m\u001b[0mtext\u001b[0m\u001b[0;34m)\u001b[0m\u001b[0;34m[\u001b[0m\u001b[0;34m\"data\"\u001b[0m\u001b[0;34m]\u001b[0m\u001b[0;34m[\u001b[0m\u001b[0;34m\"repository\"\u001b[0m\u001b[0;34m]\u001b[0m\u001b[0;34m[\u001b[0m\u001b[0;34m\"object\"\u001b[0m\u001b[0;34m]\u001b[0m\u001b[0;34m[\u001b[0m\u001b[0;34m\"history\"\u001b[0m\u001b[0;34m]\u001b[0m\u001b[0;34m[\u001b[0m\u001b[0;34m\"nodes\"\u001b[0m\u001b[0;34m]\u001b[0m\u001b[0;34m\u001b[0m\u001b[0;34m\u001b[0m\u001b[0m\n\u001b[0;32m---> 33\u001b[0;31m     \u001b[0mrelease_date\u001b[0m \u001b[0;34m=\u001b[0m \u001b[0mdate_parser\u001b[0m\u001b[0;34m.\u001b[0m\u001b[0mparse\u001b[0m\u001b[0;34m(\u001b[0m\u001b[0mrelease_node\u001b[0m\u001b[0;34m[\u001b[0m\u001b[0;34m\"publishedAt\"\u001b[0m\u001b[0;34m]\u001b[0m\u001b[0;34m,\u001b[0m \u001b[0mfuzzy\u001b[0m\u001b[0;34m=\u001b[0m\u001b[0;32mTrue\u001b[0m\u001b[0;34m)\u001b[0m\u001b[0;34m\u001b[0m\u001b[0;34m\u001b[0m\u001b[0m\n\u001b[0m\u001b[1;32m     34\u001b[0m \u001b[0;34m\u001b[0m\u001b[0m\n\u001b[1;32m     35\u001b[0m     \u001b[0;32mfor\u001b[0m \u001b[0mc\u001b[0m \u001b[0;32min\u001b[0m \u001b[0mcommits\u001b[0m\u001b[0;34m:\u001b[0m\u001b[0;34m\u001b[0m\u001b[0;34m\u001b[0m\u001b[0m\n",
      "\u001b[0;32m~/git-repos/github-devops-metrics-notebook/.venv/lib/python3.8/site-packages/dateutil/parser/_parser.py\u001b[0m in \u001b[0;36mparse\u001b[0;34m(timestr, parserinfo, **kwargs)\u001b[0m\n\u001b[1;32m   1372\u001b[0m         \u001b[0;32mreturn\u001b[0m \u001b[0mparser\u001b[0m\u001b[0;34m(\u001b[0m\u001b[0mparserinfo\u001b[0m\u001b[0;34m)\u001b[0m\u001b[0;34m.\u001b[0m\u001b[0mparse\u001b[0m\u001b[0;34m(\u001b[0m\u001b[0mtimestr\u001b[0m\u001b[0;34m,\u001b[0m \u001b[0;34m**\u001b[0m\u001b[0mkwargs\u001b[0m\u001b[0;34m)\u001b[0m\u001b[0;34m\u001b[0m\u001b[0;34m\u001b[0m\u001b[0m\n\u001b[1;32m   1373\u001b[0m     \u001b[0;32melse\u001b[0m\u001b[0;34m:\u001b[0m\u001b[0;34m\u001b[0m\u001b[0;34m\u001b[0m\u001b[0m\n\u001b[0;32m-> 1374\u001b[0;31m         \u001b[0;32mreturn\u001b[0m \u001b[0mDEFAULTPARSER\u001b[0m\u001b[0;34m.\u001b[0m\u001b[0mparse\u001b[0m\u001b[0;34m(\u001b[0m\u001b[0mtimestr\u001b[0m\u001b[0;34m,\u001b[0m \u001b[0;34m**\u001b[0m\u001b[0mkwargs\u001b[0m\u001b[0;34m)\u001b[0m\u001b[0;34m\u001b[0m\u001b[0;34m\u001b[0m\u001b[0m\n\u001b[0m\u001b[1;32m   1375\u001b[0m \u001b[0;34m\u001b[0m\u001b[0m\n\u001b[1;32m   1376\u001b[0m \u001b[0;34m\u001b[0m\u001b[0m\n",
      "\u001b[0;32m~/git-repos/github-devops-metrics-notebook/.venv/lib/python3.8/site-packages/dateutil/parser/_parser.py\u001b[0m in \u001b[0;36mparse\u001b[0;34m(self, timestr, default, ignoretz, tzinfos, **kwargs)\u001b[0m\n\u001b[1;32m    644\u001b[0m                                                       second=0, microsecond=0)\n\u001b[1;32m    645\u001b[0m \u001b[0;34m\u001b[0m\u001b[0m\n\u001b[0;32m--> 646\u001b[0;31m         \u001b[0mres\u001b[0m\u001b[0;34m,\u001b[0m \u001b[0mskipped_tokens\u001b[0m \u001b[0;34m=\u001b[0m \u001b[0mself\u001b[0m\u001b[0;34m.\u001b[0m\u001b[0m_parse\u001b[0m\u001b[0;34m(\u001b[0m\u001b[0mtimestr\u001b[0m\u001b[0;34m,\u001b[0m \u001b[0;34m**\u001b[0m\u001b[0mkwargs\u001b[0m\u001b[0;34m)\u001b[0m\u001b[0;34m\u001b[0m\u001b[0;34m\u001b[0m\u001b[0m\n\u001b[0m\u001b[1;32m    647\u001b[0m \u001b[0;34m\u001b[0m\u001b[0m\n\u001b[1;32m    648\u001b[0m         \u001b[0;32mif\u001b[0m \u001b[0mres\u001b[0m \u001b[0;32mis\u001b[0m \u001b[0;32mNone\u001b[0m\u001b[0;34m:\u001b[0m\u001b[0;34m\u001b[0m\u001b[0;34m\u001b[0m\u001b[0m\n",
      "\u001b[0;32m~/git-repos/github-devops-metrics-notebook/.venv/lib/python3.8/site-packages/dateutil/parser/_parser.py\u001b[0m in \u001b[0;36m_parse\u001b[0;34m(self, timestr, dayfirst, yearfirst, fuzzy, fuzzy_with_tokens)\u001b[0m\n\u001b[1;32m    723\u001b[0m \u001b[0;34m\u001b[0m\u001b[0m\n\u001b[1;32m    724\u001b[0m         \u001b[0mres\u001b[0m \u001b[0;34m=\u001b[0m \u001b[0mself\u001b[0m\u001b[0;34m.\u001b[0m\u001b[0m_result\u001b[0m\u001b[0;34m(\u001b[0m\u001b[0;34m)\u001b[0m\u001b[0;34m\u001b[0m\u001b[0;34m\u001b[0m\u001b[0m\n\u001b[0;32m--> 725\u001b[0;31m         \u001b[0ml\u001b[0m \u001b[0;34m=\u001b[0m \u001b[0m_timelex\u001b[0m\u001b[0;34m.\u001b[0m\u001b[0msplit\u001b[0m\u001b[0;34m(\u001b[0m\u001b[0mtimestr\u001b[0m\u001b[0;34m)\u001b[0m         \u001b[0;31m# Splits the timestr into tokens\u001b[0m\u001b[0;34m\u001b[0m\u001b[0;34m\u001b[0m\u001b[0m\n\u001b[0m\u001b[1;32m    726\u001b[0m \u001b[0;34m\u001b[0m\u001b[0m\n\u001b[1;32m    727\u001b[0m         \u001b[0mskipped_idxs\u001b[0m \u001b[0;34m=\u001b[0m \u001b[0;34m[\u001b[0m\u001b[0;34m]\u001b[0m\u001b[0;34m\u001b[0m\u001b[0;34m\u001b[0m\u001b[0m\n",
      "\u001b[0;32m~/git-repos/github-devops-metrics-notebook/.venv/lib/python3.8/site-packages/dateutil/parser/_parser.py\u001b[0m in \u001b[0;36msplit\u001b[0;34m(cls, s)\u001b[0m\n\u001b[1;32m    205\u001b[0m     \u001b[0;34m@\u001b[0m\u001b[0mclassmethod\u001b[0m\u001b[0;34m\u001b[0m\u001b[0;34m\u001b[0m\u001b[0m\n\u001b[1;32m    206\u001b[0m     \u001b[0;32mdef\u001b[0m \u001b[0msplit\u001b[0m\u001b[0;34m(\u001b[0m\u001b[0mcls\u001b[0m\u001b[0;34m,\u001b[0m \u001b[0ms\u001b[0m\u001b[0;34m)\u001b[0m\u001b[0;34m:\u001b[0m\u001b[0;34m\u001b[0m\u001b[0;34m\u001b[0m\u001b[0m\n\u001b[0;32m--> 207\u001b[0;31m         \u001b[0;32mreturn\u001b[0m \u001b[0mlist\u001b[0m\u001b[0;34m(\u001b[0m\u001b[0mcls\u001b[0m\u001b[0;34m(\u001b[0m\u001b[0ms\u001b[0m\u001b[0;34m)\u001b[0m\u001b[0;34m)\u001b[0m\u001b[0;34m\u001b[0m\u001b[0;34m\u001b[0m\u001b[0m\n\u001b[0m\u001b[1;32m    208\u001b[0m \u001b[0;34m\u001b[0m\u001b[0m\n\u001b[1;32m    209\u001b[0m     \u001b[0;34m@\u001b[0m\u001b[0mclassmethod\u001b[0m\u001b[0;34m\u001b[0m\u001b[0;34m\u001b[0m\u001b[0m\n",
      "\u001b[0;32m~/git-repos/github-devops-metrics-notebook/.venv/lib/python3.8/site-packages/dateutil/parser/_parser.py\u001b[0m in \u001b[0;36m__init__\u001b[0;34m(self, instream)\u001b[0m\n\u001b[1;32m     73\u001b[0m             \u001b[0minstream\u001b[0m \u001b[0;34m=\u001b[0m \u001b[0mStringIO\u001b[0m\u001b[0;34m(\u001b[0m\u001b[0minstream\u001b[0m\u001b[0;34m)\u001b[0m\u001b[0;34m\u001b[0m\u001b[0;34m\u001b[0m\u001b[0m\n\u001b[1;32m     74\u001b[0m         \u001b[0;32melif\u001b[0m \u001b[0mgetattr\u001b[0m\u001b[0;34m(\u001b[0m\u001b[0minstream\u001b[0m\u001b[0;34m,\u001b[0m \u001b[0;34m'read'\u001b[0m\u001b[0;34m,\u001b[0m \u001b[0;32mNone\u001b[0m\u001b[0;34m)\u001b[0m \u001b[0;32mis\u001b[0m \u001b[0;32mNone\u001b[0m\u001b[0;34m:\u001b[0m\u001b[0;34m\u001b[0m\u001b[0;34m\u001b[0m\u001b[0m\n\u001b[0;32m---> 75\u001b[0;31m             raise TypeError('Parser must be a string or character stream, not '\n\u001b[0m\u001b[1;32m     76\u001b[0m                             '{itype}'.format(itype=instream.__class__.__name__))\n\u001b[1;32m     77\u001b[0m \u001b[0;34m\u001b[0m\u001b[0m\n",
      "\u001b[0;31mTypeError\u001b[0m: Parser must be a string or character stream, not NoneType"
     ]
    }
   ],
   "source": [
    "import numpy as np\n",
    "import matplotlib.pyplot as plt\n",
    "from dateutil import parser as date_parser\n",
    "\n",
    "%store -r github_apikey\n",
    "%store -r url\n",
    "\n",
    "releases_commits = dict()\n",
    "leadtime_per_release = dict()\n",
    "\n",
    "for r in releases:\n",
    "    release_node = r[\"node\"]\n",
    "    delta_per_commit = []\n",
    "\n",
    "\n",
    "    payload=\"{\\\"query\\\":\\\"{\\\\n  repository(name: \\\\\\\"repo_name\\\\\\\", owner: \\\\\\\"repo_owner\\\\\\\") {\\\\n    nameWithOwner\\\\n    object(expression: \\\\\\\"master\\\\\\\")   {\\\\n      ... on Commit {\\\\n        oid\\\\n        history(first: 100, since: \\\\\\\"since-date\\\\\\\") {\\\\n          nodes {\\\\n            oid\\\\n               messageHeadline\\\\n            author {\\\\n              user {\\\\n                login\\\\n              }\\\\n            }\\\\n            committedDate\\\\n           }\\\\n        }\\\\n      }\\\\n    }\\\\n  }\\\\n}\\\\n\\\",\\\"variables\\\":{}}\"\n",
    "\n",
    "    payload = payload.replace(\"repo_name\", repo_name)\n",
    "    payload = payload.replace(\"repo_owner\", repo_owner)\n",
    "    payload = payload.replace(\"repo_name\", repo_name)\n",
    "    payload = payload.replace(\"since-date\", release_node[\"createdAt\"])\n",
    "\n",
    "    authorization_token = \"Bearer {0}\".format(github_apikey)\n",
    "\n",
    "    headers = {\n",
    "      'Authorization': authorization_token,\n",
    "      'Content-Type': 'application/json'\n",
    "    }\n",
    "\n",
    "    response = requests.request(\"POST\", url, headers=headers, data=payload)\n",
    "\n",
    "    commits = json.loads(response.text)[\"data\"][\"repository\"][\"object\"][\"history\"][\"nodes\"]\n",
    "    release_date = date_parser.parse(release_node[\"publishedAt\"], fuzzy=True)\n",
    "\n",
    "    for c in commits:\n",
    "        commit_date = date_parser.parse(c[\"committedDate\"], fuzzy=True)\n",
    "        delta = abs((commit_date-release_date).days)\n",
    "        delta_per_commit.append(delta)\n",
    "    \n",
    "    np_array = np.array(delta_per_commit)\n",
    "    median = np.median(np_array)\n",
    "    leadtime_per_release[release_node[\"tag\"][\"name\"]] = median\n",
    "\n",
    "x = list(leadtime_per_release.keys())\n",
    "y = list(leadtime_per_release.values())\n",
    "\n",
    "x = np.array(x)\n",
    "y = np.array(y)\n",
    "\n",
    "plt.plot(x, y)\n",
    "plt.xlabel(\"Release name\")\n",
    "plt.ylabel(\"Lead time for changes (in days)\")\n",
    "plt.title(\"Evolution of lead time for changes per release\")  # add title\n",
    "plt.show()"
   ]
  },
  {
   "source": [
    "## Deployment frequency for releases\n",
    "How often an organization successfully releases to production"
   ],
   "cell_type": "markdown",
   "metadata": {}
  },
  {
   "cell_type": "code",
   "execution_count": 45,
   "metadata": {},
   "outputs": [
    {
     "output_type": "display_data",
     "data": {
      "text/plain": "DatePicker(value=None, description='Since:')",
      "application/vnd.jupyter.widget-view+json": {
       "version_major": 2,
       "version_minor": 0,
       "model_id": "8b6797d5cec64f13bfb3309289e7767f"
      }
     },
     "metadata": {}
    },
    {
     "output_type": "display_data",
     "data": {
      "text/plain": "Output()",
      "application/vnd.jupyter.widget-view+json": {
       "version_major": 2,
       "version_minor": 0,
       "model_id": "f4683c85c8b2403e9d2da9b90c0d06c5"
      }
     },
     "metadata": {}
    },
    {
     "output_type": "display_data",
     "data": {
      "text/plain": "DatePicker(value=None, description='Until:')",
      "application/vnd.jupyter.widget-view+json": {
       "version_major": 2,
       "version_minor": 0,
       "model_id": "61acd9f3960345fbb4cfae80bcb6ec4b"
      }
     },
     "metadata": {}
    },
    {
     "output_type": "display_data",
     "data": {
      "text/plain": "Output()",
      "application/vnd.jupyter.widget-view+json": {
       "version_major": 2,
       "version_minor": 0,
       "model_id": "f4683c85c8b2403e9d2da9b90c0d06c5"
      }
     },
     "metadata": {}
    },
    {
     "output_type": "display_data",
     "data": {
      "text/plain": "RadioButtons(description='Time:', options=('Month', 'Week', 'Day'), value='Month')",
      "application/vnd.jupyter.widget-view+json": {
       "version_major": 2,
       "version_minor": 0,
       "model_id": "f61fd1f4840f4c15959e59ca4c17df5a"
      }
     },
     "metadata": {}
    },
    {
     "output_type": "display_data",
     "data": {
      "text/plain": "Output()",
      "application/vnd.jupyter.widget-view+json": {
       "version_major": 2,
       "version_minor": 0,
       "model_id": "f4683c85c8b2403e9d2da9b90c0d06c5"
      }
     },
     "metadata": {}
    },
    {
     "output_type": "display_data",
     "data": {
      "text/plain": "Button(description='Click Me!', style=ButtonStyle())",
      "application/vnd.jupyter.widget-view+json": {
       "version_major": 2,
       "version_minor": 0,
       "model_id": "1d8fb4b380e0494aafb02afef4f5fe1e"
      }
     },
     "metadata": {}
    },
    {
     "output_type": "display_data",
     "data": {
      "text/plain": "Output()",
      "application/vnd.jupyter.widget-view+json": {
       "version_major": 2,
       "version_minor": 0,
       "model_id": "f4683c85c8b2403e9d2da9b90c0d06c5"
      }
     },
     "metadata": {}
    }
   ],
   "source": [
    "import ipywidgets as widgets\n",
    "from IPython.display import display\n",
    "import datetime\n",
    "\n",
    "button = widgets.Button(description=\"Click Me!\")\n",
    "output = widgets.Output()\n",
    "\n",
    "time_selector = widgets.RadioButtons(\n",
    "    options=['Month', 'Week', 'Day'],\n",
    "    value='Month',\n",
    "    description='Time:',\n",
    "    disabled=False\n",
    ")\n",
    "\n",
    "ds_since = widgets.DatePicker(\n",
    "    description='Since:',\n",
    "    disabled=False\n",
    ")\n",
    "\n",
    "ds_until = widgets.DatePicker(\n",
    "    description='Until:',\n",
    "    disabled=False\n",
    ")\n",
    "\n",
    "display(ds_since, output)\n",
    "display(ds_until, output)\n",
    "display(time_selector, output)\n",
    "display(button, output)\n",
    "\n",
    "def on_button_clicked(b):\n",
    "    with output:\n",
    "        print(ds_since.value)\n",
    "        calculate_deploy_freq(time_selector.value)\n",
    "\n",
    "def calculate_deploy_freq(time, since=None, until=None):\n",
    "    if since is None:\n",
    "        currentDateTime = datetime.datetime.now()\n",
    "        date = currentDateTime.date()\n",
    "        year = date.strftime(\"%Y\")\n",
    "        since = datetime.datetime(year, 1, 1)\n",
    "    \n",
    "    \n",
    "    print(time)\n",
    "\n",
    "button.on_click(on_button_clicked)\n"
   ]
  },
  {
   "cell_type": "code",
   "execution_count": null,
   "metadata": {},
   "outputs": [],
   "source": []
  }
 ],
 "metadata": {
  "kernelspec": {
   "name": "python3",
   "display_name": "Python 3",
   "language": "python"
  }
 },
 "nbformat": 4,
 "nbformat_minor": 5
}